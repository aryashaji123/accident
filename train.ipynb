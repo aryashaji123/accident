{
 "cells": [
  {
   "cell_type": "code",
   "execution_count": null,
   "metadata": {},
   "outputs": [],
   "source": [
    "import pandas as pd\n",
    "filenames = [\"100000.xlsx\", \"100001.xlsx\", \"100002.xlsx\", \"100003.xlsx\"]\n",
    "\n",
    "temp = []\n",
    "for eachfile in filenames:\n",
    "    print(eachfile)\n",
    "    temp.append(pd.read_excel(eachfile))\n"
   ]
  },
  {
   "cell_type": "code",
   "execution_count": 108,
   "metadata": {},
   "outputs": [],
   "source": [
    "DATA = pd.concat(temp)\n",
    "del temp"
   ]
  },
  {
   "cell_type": "code",
   "execution_count": 109,
   "metadata": {},
   "outputs": [
    {
     "data": {
      "text/plain": [
       "(317597, 317597)"
      ]
     },
     "execution_count": 109,
     "metadata": {},
     "output_type": "execute_result"
    }
   ],
   "source": [
    "len(DATA), len(DATA.drop_duplicates())"
   ]
  },
  {
   "cell_type": "code",
   "execution_count": 110,
   "metadata": {},
   "outputs": [],
   "source": [
    "DATA = DATA.drop('Unnamed: 0', 1)"
   ]
  },
  {
   "cell_type": "code",
   "execution_count": 113,
   "metadata": {},
   "outputs": [],
   "source": [
    "DATA = DATA.drop('ID', 1)"
   ]
  },
  {
   "cell_type": "code",
   "execution_count": 111,
   "metadata": {},
   "outputs": [],
   "source": [
    "def fun(raw):\n",
    "    return int(raw.replace('-',''))\n",
    "\n",
    "DATA['Zipcode'] = DATA['Zipcode'].apply(fun, 1)"
   ]
  },
  {
   "cell_type": "code",
   "execution_count": 114,
   "metadata": {},
   "outputs": [
    {
     "data": {
      "text/plain": [
       "54"
      ]
     },
     "execution_count": 114,
     "metadata": {},
     "output_type": "execute_result"
    }
   ],
   "source": [
    "len(DATA.columns)"
   ]
  },
  {
   "cell_type": "code",
   "execution_count": 123,
   "metadata": {},
   "outputs": [],
   "source": [
    "idx = []\n",
    "for i,k in enumerate(DATA.values):\n",
    "    for e in k:\n",
    "        #print(isinstance(e, (int)))\n",
    "        if isinstance(e, (int)) or isinstance(e, (float)):\n",
    "            pass\n",
    "        else:\n",
    "            print(i, e, type(e))\n",
    "            idx.append(i)\n",
    "        #print(type(e))"
   ]
  },
  {
   "cell_type": "code",
   "execution_count": 122,
   "metadata": {},
   "outputs": [],
   "source": [
    "for each in idx:\n",
    "    DATA = DATA.drop(each)"
   ]
  },
  {
   "cell_type": "code",
   "execution_count": 124,
   "metadata": {},
   "outputs": [],
   "source": [
    "import numpy as np\n",
    "import keras\n",
    "from keras.datasets import mnist\n",
    "from keras.models import Sequential, Model\n",
    "from keras.layers import Dense, Input\n",
    "from keras import optimizers\n",
    "from keras.optimizers import Adam"
   ]
  },
  {
   "cell_type": "code",
   "execution_count": 1,
   "metadata": {
    "scrolled": true
   },
   "outputs": [
    {
     "ename": "NameError",
     "evalue": "name 'DATA' is not defined",
     "output_type": "error",
     "traceback": [
      "\u001b[1;31m---------------------------------------------------------------------------\u001b[0m",
      "\u001b[1;31mNameError\u001b[0m                                 Traceback (most recent call last)",
      "\u001b[1;32m<ipython-input-1-dd66717700a6>\u001b[0m in \u001b[0;36m<module>\u001b[1;34m\u001b[0m\n\u001b[1;32m----> 1\u001b[1;33m \u001b[0mdata\u001b[0m \u001b[1;33m=\u001b[0m \u001b[0mDATA\u001b[0m\u001b[1;33m\u001b[0m\u001b[1;33m\u001b[0m\u001b[0m\n\u001b[0m\u001b[0;32m      2\u001b[0m \u001b[1;31m#x_train=y_train='TMC', 'Severity', 'Start_Lat', 'Start_Lng','Distance(mi)', 'Number', 'Street', 'Side', 'City', 'County', 'State','Zipcode', 'Timezone', 'Airport_Code', 'Temperature(F)','Wind_Chill(F)', 'Humidity(%)', 'Pressure(in)', 'Visibility(mi)','Wind_Direction', 'Wind_Speed(mph)', 'Precipitation(in)','Weather_Condition', 'Amenity', 'Bump', 'Crossing', 'Give_Way','Junction', 'No_Exit', 'Railway', 'Roundabout', 'Station', 'Stop','Traffic_Calming', 'Traffic_Signal', 'Turning_Loop', 'Sunrise_Sunset', 'Civil_Twilight', 'Nautical_Twilight', 'Astronomical_Twilight\\n','start_year', 'start_month', 'start_day', 'start_hour', 'start_minute', 'end_year', 'end_month', 'end_day', 'end_hour', 'end_minute','weather_year', 'weather_month', 'weather_day', 'weather_hour','weather_minute'\u001b[0m\u001b[1;33m\u001b[0m\u001b[1;33m\u001b[0m\u001b[1;33m\u001b[0m\u001b[0m\n\u001b[0;32m      3\u001b[0m \u001b[1;33m\u001b[0m\u001b[0m\n\u001b[0;32m      4\u001b[0m \u001b[0mx_train\u001b[0m \u001b[1;33m=\u001b[0m \u001b[0mdata\u001b[0m\u001b[1;33m.\u001b[0m\u001b[0mas_matrix\u001b[0m\u001b[1;33m(\u001b[0m\u001b[1;33m)\u001b[0m\u001b[1;33m[\u001b[0m\u001b[1;33m:\u001b[0m\u001b[1;36m254077\u001b[0m\u001b[1;33m]\u001b[0m\u001b[1;33m\u001b[0m\u001b[1;33m\u001b[0m\u001b[0m\n\u001b[0;32m      5\u001b[0m \u001b[0mx_test\u001b[0m \u001b[1;33m=\u001b[0m \u001b[0mdata\u001b[0m\u001b[1;33m.\u001b[0m\u001b[0mas_matrix\u001b[0m\u001b[1;33m(\u001b[0m\u001b[1;33m)\u001b[0m\u001b[1;33m[\u001b[0m\u001b[1;36m254077\u001b[0m\u001b[1;33m:\u001b[0m\u001b[1;33m]\u001b[0m\u001b[1;33m\u001b[0m\u001b[1;33m\u001b[0m\u001b[0m\n",
      "\u001b[1;31mNameError\u001b[0m: name 'DATA' is not defined"
     ]
    }
   ],
   "source": [
    "data = DATA\n",
    "#x_train=y_train='TMC', 'Severity', 'Start_Lat', 'Start_Lng','Distance(mi)', 'Number', 'Street', 'Side', 'City', 'County', 'State','Zipcode', 'Timezone', 'Airport_Code', 'Temperature(F)','Wind_Chill(F)', 'Humidity(%)', 'Pressure(in)', 'Visibility(mi)','Wind_Direction', 'Wind_Speed(mph)', 'Precipitation(in)','Weather_Condition', 'Amenity', 'Bump', 'Crossing', 'Give_Way','Junction', 'No_Exit', 'Railway', 'Roundabout', 'Station', 'Stop','Traffic_Calming', 'Traffic_Signal', 'Turning_Loop', 'Sunrise_Sunset', 'Civil_Twilight', 'Nautical_Twilight', 'Astronomical_Twilight\\n','start_year', 'start_month', 'start_day', 'start_hour', 'start_minute', 'end_year', 'end_month', 'end_day', 'end_hour', 'end_minute','weather_year', 'weather_month', 'weather_day', 'weather_hour','weather_minute'\n",
    "\n",
    "x_train = data.as_matrix()[:254077]\n",
    "x_test = data.as_matrix()[254077:]\n",
    "\n",
    "train_x = x_train.reshape(x_train.shape[0], x_train.shape[1]) / 255\n",
    "val_x = x_test.reshape(x_test.shape[0], x_train.shape[1]) / 255\n",
    "\n",
    "autoencoder = Sequential()\n",
    "autoencoder.add(Dense(48,  activation='elu', input_shape=(x_train.shape[1],)))\n",
    "autoencoder.add(Dense(24,  activation='elu'))\n",
    "autoencoder.add(Dense(10,    activation='linear', name=\"bottleneck\"))\n",
    "autoencoder.add(Dense(24,  activation='elu'))\n",
    "autoencoder.add(Dense(48,  activation='elu'))\n",
    "autoencoder.add(Dense(x_train.shape[1],  activation='sigmoid'))\n",
    "autoencoder.compile(loss='mean_squared_error', optimizer = Adam())\n",
    "trained_model = autoencoder.fit(train_x, train_x, batch_size=10, epochs=10, verbose=1, validation_data=(val_x, val_x))\n",
    "encoder = Model(autoencoder.input, autoencoder.get_layer('bottleneck').output)\n",
    "encoded_data = encoder.predict(train_x)  # bottleneck representation\n",
    "decoded_output = autoencoder.predict(train_x)        # reconstruction\n",
    "encoding_dim = 10\n",
    "\n",
    "# return the decoder\n",
    "encoded_input = Input(shape=(encoding_dim,))\n",
    "decoder = autoencoder.layers[-3](encoded_input)\n",
    "decoder = autoencoder.layers[-2](decoder)\n",
    "decoder = autoencoder.layers[-1](decoder)\n",
    "decoder = Model(encoded_input, decoder)\n"
   ]
  },
  {
   "cell_type": "code",
   "execution_count": 128,
   "metadata": {},
   "outputs": [],
   "source": [
    "autoencoder.save(\"autoencoder_save\", overwrite=True)\n",
    "encoder.save(\"encoder_save\", overwrite=True)\n",
    "decoder.save(\"decoder_save\", overwrite=True)"
   ]
  },
  {
   "cell_type": "code",
   "execution_count": 129,
   "metadata": {},
   "outputs": [
    {
     "ename": "NameError",
     "evalue": "name 'load_model' is not defined",
     "output_type": "error",
     "traceback": [
      "\u001b[1;31m---------------------------------------------------------------------------\u001b[0m",
      "\u001b[1;31mNameError\u001b[0m                                 Traceback (most recent call last)",
      "\u001b[1;32m<ipython-input-129-98157b59a27f>\u001b[0m in \u001b[0;36m<module>\u001b[1;34m\u001b[0m\n\u001b[1;32m----> 1\u001b[1;33m autoencoder_disk = load_model(\"autoencoder_save\", custom_objects={'KLDivergenceLayer': KLDivergenceLayer,\n\u001b[0m\u001b[0;32m      2\u001b[0m                                                        'nll': nll})\n\u001b[0;32m      3\u001b[0m encoder_disk = load_model(\"encoder_save\", custom_objects={'KLDivergenceLayer': KLDivergenceLayer,\n\u001b[0;32m      4\u001b[0m                                                        'nll': nll})\n\u001b[0;32m      5\u001b[0m decoder_disk = load_model(\"decoder_save\", custom_objects={'KLDivergenceLayer': KLDivergenceLayer,\n",
      "\u001b[1;31mNameError\u001b[0m: name 'load_model' is not defined"
     ]
    }
   ],
   "source": [
    "autoencoder_disk = load_model(\"autoencoder_save\", custom_objects={'KLDivergenceLayer': KLDivergenceLayer,\n",
    "                                                       'nll': nll})\n",
    "encoder_disk = load_model(\"encoder_save\", custom_objects={'KLDivergenceLayer': KLDivergenceLayer,\n",
    "                                                       'nll': nll})\n",
    "decoder_disk = load_model(\"decoder_save\", custom_objects={'KLDivergenceLayer': KLDivergenceLayer,\n",
    "                                                       'nll': nll})"
   ]
  },
  {
   "cell_type": "code",
   "execution_count": null,
   "metadata": {},
   "outputs": [],
   "source": []
  }
 ],
 "metadata": {
  "kernelspec": {
   "display_name": "Python 3",
   "language": "python",
   "name": "python3"
  },
  "language_info": {
   "codemirror_mode": {
    "name": "ipython",
    "version": 3
   },
   "file_extension": ".py",
   "mimetype": "text/x-python",
   "name": "python",
   "nbconvert_exporter": "python",
   "pygments_lexer": "ipython3",
   "version": "3.7.3"
  }
 },
 "nbformat": 4,
 "nbformat_minor": 2
}
