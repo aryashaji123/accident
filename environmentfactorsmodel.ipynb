{
 "cells": [
  {
   "cell_type": "code",
   "execution_count": 1,
   "metadata": {},
   "outputs": [],
   "source": [
    "import pandas as pd\n",
    "import numpy as np\n",
    "data = pd.read_excel(\"E:/MCA Project/100copy.xlsx\" )"
   ]
  },
  {
   "cell_type": "code",
   "execution_count": 3,
   "metadata": {},
   "outputs": [],
   "source": [
    "data['Wind_Chill(F)']=data['Wind_Chill(F)'].fillna(0)"
   ]
  },
  {
   "cell_type": "code",
   "execution_count": 14,
   "metadata": {},
   "outputs": [],
   "source": [
    "data['Precipitation(in)']=data['Precipitation(in)'].fillna(0)"
   ]
  },
  {
   "cell_type": "code",
   "execution_count": 16,
   "metadata": {},
   "outputs": [],
   "source": [
    "data['Wind_Speed(mph)']=data['Wind_Speed(mph)'].fillna(0)"
   ]
  },
  {
   "cell_type": "code",
   "execution_count": 17,
   "metadata": {},
   "outputs": [],
   "source": [
    "data.to_excel(\"100copy.xlsx\")\n"
   ]
  },
  {
   "cell_type": "code",
   "execution_count": 2,
   "metadata": {},
   "outputs": [
    {
     "name": "stderr",
     "output_type": "stream",
     "text": [
      "C:\\Users\\aryas\\Anaconda3\\lib\\site-packages\\sklearn\\externals\\joblib\\__init__.py:15: DeprecationWarning: sklearn.externals.joblib is deprecated in 0.21 and will be removed in 0.23. Please import this functionality directly from joblib, which can be installed with: pip install joblib. If this warning is raised when loading pickled models, you may need to re-serialize those models with scikit-learn 0.21+.\n",
      "  warnings.warn(msg, category=DeprecationWarning)\n"
     ]
    },
    {
     "name": "stdout",
     "output_type": "stream",
     "text": [
      "[35.8156]\n",
      "0.9954750970509225\n",
      "0.9482120824577694\n"
     ]
    }
   ],
   "source": [
    "from sklearn.model_selection import train_test_split\n",
    "from sklearn import preprocessing\n",
    "from sklearn.ensemble import RandomForestRegressor\n",
    "import pickle\n",
    "#lr = preprocessing.LabelEncoder()\n",
    "\n",
    "X=data[['Start_Lat', 'Start_Lng','start_year', 'start_month', 'start_day',\n",
    "       'start_hour', 'start_minute', 'end_year', 'end_month', 'end_day',\n",
    "       'end_hour', 'end_minute', 'weather_year', 'weather_month',\n",
    "       'weather_day', 'weather_hour', 'weather_minute']]\n",
    "y=data['Temperature(F)']\n",
    "\n",
    "\n",
    "X_train, X_test, y_train, y_test = train_test_split(X, y, test_size=0.33, random_state=42)\n",
    "\n",
    "\n",
    "lr =RandomForestRegressor(n_estimators=500)\n",
    "lr.fit(X_train, y_train)\n",
    "\n",
    "from sklearn.externals import joblib\n",
    "joblib.dump(lr, 'models/temperature_model.pkl')\n",
    "\n",
    "temp=lr.predict([[0,0,0,0,0,0,0,0,0,0,0,0,0,0,0,0,0]])\n",
    "print(temp)\n",
    "print(lr.score(X_train,y_train))\n",
    "print(lr.score(X_test,y_test))"
   ]
  },
  {
   "cell_type": "code",
   "execution_count": 3,
   "metadata": {},
   "outputs": [
    {
     "name": "stdout",
     "output_type": "stream",
     "text": [
      "[29.84352]\n",
      "0.9975558012651933\n",
      "0.9667029952524903\n"
     ]
    }
   ],
   "source": [
    "from sklearn.model_selection import train_test_split\n",
    "from sklearn import preprocessing\n",
    "from sklearn.ensemble import RandomForestRegressor\n",
    "#lr = preprocessing.LabelEncoder()\n",
    "\n",
    "x=data[['Start_Lat', 'Start_Lng','start_year', 'start_month', 'start_day',\n",
    "       'start_hour', 'start_minute', 'end_year', 'end_month', 'end_day',\n",
    "       'end_hour', 'end_minute', 'weather_year', 'weather_month',\n",
    "       'weather_day', 'weather_hour', 'weather_minute','Temperature(F)']]\n",
    "y=data['Pressure(in)']\n",
    "\n",
    "X_train, X_test, y_train, y_test = train_test_split(x, y, test_size=0.33, random_state=42)\n",
    "\n",
    "lr =RandomForestRegressor(n_estimators=500)\n",
    "lr.fit(X_train, y_train)\n",
    "\n",
    "from sklearn.externals import joblib\n",
    "joblib.dump(lr, 'models/pressure_model.pkl')\n",
    "\n",
    "pressure=lr.predict([[0,0,0,0,0,0,0,0,0,0,0,0,0,0,0,0,0,0]])\n",
    "print(pressure)\n",
    "print(lr.score(X_train,y_train))\n",
    "print(lr.score(X_test,y_test))"
   ]
  },
  {
   "cell_type": "code",
   "execution_count": 4,
   "metadata": {},
   "outputs": [
    {
     "name": "stdout",
     "output_type": "stream",
     "text": [
      "[78.186]\n",
      "0.953564393036461\n",
      "0.5996679436799057\n"
     ]
    }
   ],
   "source": [
    "from sklearn.model_selection import train_test_split\n",
    "from sklearn import preprocessing\n",
    "from sklearn.ensemble import RandomForestRegressor\n",
    "#lr = preprocessing.LabelEncoder()\n",
    "\n",
    "X=data[['Start_Lat', 'Start_Lng','start_year', 'start_month', 'start_day',\n",
    "       'start_hour', 'start_minute', 'end_year', 'end_month', 'end_day',\n",
    "       'end_hour', 'end_minute', 'weather_year', 'weather_month',\n",
    "       'weather_day', 'weather_hour', 'weather_minute','Temperature(F)','Pressure(in)']]\n",
    "y=data['Humidity(%)']\n",
    "\n",
    "\n",
    "X_train, X_test, y_train, y_test = train_test_split(X, y, test_size=0.33, random_state=42)\n",
    "\n",
    "lr =RandomForestRegressor(n_estimators=500)\n",
    "lr.fit(X_train, y_train)\n",
    "\n",
    "from sklearn.externals import joblib\n",
    "joblib.dump(lr, 'models/humidity_model.pkl')\n",
    "\n",
    "humi=lr.predict([[0,0,0,0,0,0,0,0,0,0,0,0,0,0,0,0,0,0,0]])\n",
    "print(humi)\n",
    "print(lr.score(X_train,y_train))\n",
    "print(lr.score(X_test,y_test))"
   ]
  },
  {
   "cell_type": "code",
   "execution_count": 5,
   "metadata": {},
   "outputs": [
    {
     "name": "stdout",
     "output_type": "stream",
     "text": [
      "[5.1252]\n",
      "0.9638733716335163\n",
      "0.5904468770592213\n"
     ]
    }
   ],
   "source": [
    "from sklearn.model_selection import train_test_split\n",
    "from sklearn import preprocessing\n",
    "from sklearn.ensemble import RandomForestRegressor\n",
    "#lr = preprocessing.LabelEncoder()\n",
    "\n",
    "x=data[['Start_Lat', 'Start_Lng','start_year', 'start_month', 'start_day',\n",
    "       'start_hour', 'start_minute', 'end_year', 'end_month', 'end_day',\n",
    "       'end_hour', 'end_minute', 'weather_year', 'weather_month',\n",
    "       'weather_day', 'weather_hour', 'weather_minute','Temperature(F)','Pressure(in)','Humidity(%)']]\n",
    "y=data['Visibility(mi)']\n",
    "\n",
    "X_train, X_test, y_train, y_test = train_test_split(x, y, test_size=0.33, random_state=42)\n",
    "\n",
    "lr =RandomForestRegressor(n_estimators=500)\n",
    "lr.fit(X_train, y_train)\n",
    "\n",
    "\n",
    "from sklearn.externals import joblib\n",
    "joblib.dump(lr, 'models/visibility_model.pkl')\n",
    "\n",
    "visibility=lr.predict([[0,0,0,0,0,0,0,0,0,0,0,0,0,0,0,0,0,0,0,0]])\n",
    "print(visibility)\n",
    "print(lr.score(X_train,y_train))\n",
    "print(lr.score(X_test,y_test))"
   ]
  },
  {
   "cell_type": "code",
   "execution_count": 6,
   "metadata": {},
   "outputs": [
    {
     "name": "stdout",
     "output_type": "stream",
     "text": [
      "[5.916]\n",
      "0.8662516802555911\n",
      "0.3427983423923825\n"
     ]
    }
   ],
   "source": [
    "from sklearn.model_selection import train_test_split\n",
    "from sklearn import preprocessing\n",
    "from sklearn.ensemble import RandomForestRegressor\n",
    "#lr = preprocessing.LabelEncoder()\n",
    "\n",
    "x=data[['Start_Lat', 'Start_Lng','start_year', 'start_month', 'start_day',\n",
    "       'start_hour', 'start_minute', 'end_year', 'end_month', 'end_day',\n",
    "       'end_hour', 'end_minute', 'weather_year', 'weather_month',\n",
    "       'weather_day', 'weather_hour', 'weather_minute','Temperature(F)',\n",
    "        'Pressure(in)','Humidity(%)','Visibility(mi)']]\n",
    "y=data['Wind_Direction']\n",
    "\n",
    "X_train, X_test, y_train, y_test = train_test_split(x, y, test_size=0.33, random_state=42)\n",
    "\n",
    "lr =RandomForestRegressor(n_estimators=500)\n",
    "lr.fit(X_train, y_train)\n",
    "\n",
    "\n",
    "from sklearn.externals import joblib\n",
    "joblib.dump(lr, 'models/wind_direction_model.pkl')\n",
    "\n",
    "winddir=lr.predict([[0,0,0,0,0,0,0,0,0,0,0,0,0,0,0,0,0,0,0,0,0]])\n",
    "print(winddir)\n",
    "print(lr.score(X_train,y_train))\n",
    "print(lr.score(X_test,y_test))"
   ]
  },
  {
   "cell_type": "code",
   "execution_count": 7,
   "metadata": {},
   "outputs": [
    {
     "name": "stdout",
     "output_type": "stream",
     "text": [
      "[6.0568]\n",
      "0.9645187983292974\n",
      "0.4501504889771684\n"
     ]
    }
   ],
   "source": [
    "from sklearn.model_selection import train_test_split\n",
    "from sklearn import preprocessing\n",
    "from sklearn.ensemble import RandomForestRegressor\n",
    "#lr = preprocessing.LabelEncoder()\n",
    "\n",
    "x=data[['Start_Lat', 'Start_Lng','start_year', 'start_month', 'start_day',\n",
    "       'start_hour', 'start_minute', 'end_year', 'end_month', 'end_day',\n",
    "       'end_hour', 'end_minute', 'weather_year', 'weather_month',\n",
    "       'weather_day', 'weather_hour', 'weather_minute','Temperature(F)',\n",
    "        'Pressure(in)','Humidity(%)','Visibility(mi)','Wind_Direction']]\n",
    "y=data['Wind_Chill(F)']\n",
    "\n",
    "X_train, X_test, y_train, y_test = train_test_split(x, y, test_size=0.33, random_state=42)\n",
    "\n",
    "lr =RandomForestRegressor(n_estimators=500)\n",
    "lr.fit(X_train, y_train)\n",
    "\n",
    "\n",
    "from sklearn.externals import joblib\n",
    "joblib.dump(lr, 'models/windchill_model.pkl')\n",
    "\n",
    "windchill=lr.predict([[0,0,0,0,0,0,0,0,0,0,0,0,0,0,0,0,0,0,0,0,0,0]])\n",
    "print(windchill)\n",
    "print(lr.score(X_train,y_train))\n",
    "print(lr.score(X_test,y_test))"
   ]
  },
  {
   "cell_type": "code",
   "execution_count": 8,
   "metadata": {},
   "outputs": [
    {
     "name": "stdout",
     "output_type": "stream",
     "text": [
      "[0.00804]\n",
      "0.8565075609022528\n",
      "0.0368095149105363\n"
     ]
    }
   ],
   "source": [
    "from sklearn.model_selection import train_test_split\n",
    "from sklearn import preprocessing\n",
    "from sklearn.ensemble import RandomForestRegressor\n",
    "#lr = preprocessing.LabelEncoder()\n",
    "\n",
    "x=data[['Start_Lat', 'Start_Lng','start_year', 'start_month', 'start_day',\n",
    "       'start_hour', 'start_minute', 'end_year', 'end_month', 'end_day',\n",
    "       'end_hour', 'end_minute', 'weather_year', 'weather_month',\n",
    "       'weather_day', 'weather_hour', 'weather_minute','Temperature(F)',\n",
    "        'Pressure(in)','Humidity(%)','Visibility(mi)','Wind_Direction','Wind_Chill(F)']]\n",
    "y=data['Precipitation(in)']\n",
    "\n",
    "X_train, X_test, y_train, y_test = train_test_split(x, y, test_size=0.33, random_state=42)\n",
    "\n",
    "lr =RandomForestRegressor(n_estimators=500)\n",
    "lr.fit(X_train, y_train)\n",
    "\n",
    "\n",
    "from sklearn.externals import joblib\n",
    "joblib.dump(lr, 'models/precipitation_model.pkl')\n",
    "\n",
    "precipitation=lr.predict([[0,0,0,0,0,0,0,0,0,0,0,0,0,0,0,0,0,0,0,0,0,0,0]])\n",
    "print(precipitation)\n",
    "print(lr.score(X_train,y_train))\n",
    "print(lr.score(X_test,y_test))"
   ]
  },
  {
   "cell_type": "code",
   "execution_count": 9,
   "metadata": {},
   "outputs": [
    {
     "name": "stdout",
     "output_type": "stream",
     "text": [
      "[11.0172]\n",
      "0.9370611516424472\n",
      "0.5247286222590766\n"
     ]
    }
   ],
   "source": [
    "from sklearn.model_selection import train_test_split\n",
    "from sklearn import preprocessing\n",
    "from sklearn.ensemble import RandomForestRegressor\n",
    "#lr = preprocessing.LabelEncoder()\n",
    "\n",
    "x=data[['Start_Lat', 'Start_Lng','start_year', 'start_month', 'start_day',\n",
    "       'start_hour', 'start_minute', 'end_year', 'end_month', 'end_day',\n",
    "       'end_hour', 'end_minute', 'weather_year', 'weather_month',\n",
    "       'weather_day', 'weather_hour', 'weather_minute','Temperature(F)',\n",
    "        'Pressure(in)','Humidity(%)','Visibility(mi)','Wind_Direction','Wind_Chill(F)','Precipitation(in)']]\n",
    "y=data['Wind_Speed(mph)']\n",
    "\n",
    "X_train, X_test, y_train, y_test = train_test_split(x, y, test_size=0.33, random_state=42)\n",
    "\n",
    "lr =RandomForestRegressor(n_estimators=500)\n",
    "lr.fit(X_train, y_train)\n",
    "\n",
    "\n",
    "from sklearn.externals import joblib\n",
    "joblib.dump(lr, 'models/windspeed_model.pkl')\n",
    "\n",
    "windspd=lr.predict([[0,0,0,0,0,0,0,0,0,0,0,0,0,0,0,0,0,0,0,0,0,0,0,0]])\n",
    "print(windspd)\n",
    "print(lr.score(X_train,y_train))\n",
    "print(lr.score(X_test,y_test))"
   ]
  },
  {
   "cell_type": "code",
   "execution_count": 10,
   "metadata": {},
   "outputs": [
    {
     "name": "stdout",
     "output_type": "stream",
     "text": [
      "[2.462]\n",
      "0.8735143163651662\n",
      "0.03855998353909451\n"
     ]
    }
   ],
   "source": [
    "from sklearn.model_selection import train_test_split\n",
    "from sklearn import preprocessing\n",
    "from sklearn.ensemble import RandomForestRegressor\n",
    "#lr = preprocessing.LabelEncoder()\n",
    "\n",
    "x=data[['Start_Lat', 'Start_Lng','start_year', 'start_month', 'start_day',\n",
    "       'start_hour', 'start_minute', 'end_year', 'end_month', 'end_day',\n",
    "       'end_hour', 'end_minute', 'weather_year', 'weather_month',\n",
    "       'weather_day', 'weather_hour', 'weather_minute','Temperature(F)',\n",
    "        'Pressure(in)','Humidity(%)','Visibility(mi)','Wind_Direction',\n",
    "        'Wind_Chill(F)','Precipitation(in)','Wind_Speed(mph)']]\n",
    "y=data['Weather_Condition']\n",
    "\n",
    "X_train, X_test, y_train, y_test = train_test_split(x, y, test_size=0.33, random_state=42)\n",
    "\n",
    "lr =RandomForestRegressor(n_estimators=500)\n",
    "lr.fit(X_train, y_train)\n",
    "\n",
    "from sklearn.externals import joblib\n",
    "joblib.dump(lr, 'models/weathercondition_model.pkl')\n",
    "\n",
    "weathercond=lr.predict([[0,0,0,0,0,0,0,0,0,0,0,0,0,0,0,0,0,0,0,0,0,0,0,0,0]])\n",
    "print(weathercond)\n",
    "print(lr.score(X_train,y_train))\n",
    "print(lr.score(X_test,y_test))"
   ]
  },
  {
   "cell_type": "code",
   "execution_count": null,
   "metadata": {},
   "outputs": [],
   "source": []
  }
 ],
 "metadata": {
  "kernelspec": {
   "display_name": "Python 3",
   "language": "python",
   "name": "python3"
  },
  "language_info": {
   "codemirror_mode": {
    "name": "ipython",
    "version": 3
   },
   "file_extension": ".py",
   "mimetype": "text/x-python",
   "name": "python",
   "nbconvert_exporter": "python",
   "pygments_lexer": "ipython3",
   "version": "3.7.3"
  }
 },
 "nbformat": 4,
 "nbformat_minor": 2
}
