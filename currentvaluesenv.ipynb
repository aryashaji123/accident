{
 "cells": [
  {
   "cell_type": "code",
   "execution_count": 1,
   "metadata": {},
   "outputs": [
    {
     "name": "stderr",
     "output_type": "stream",
     "text": [
      "C:\\Users\\aryas\\Anaconda3\\lib\\site-packages\\sklearn\\externals\\joblib\\__init__.py:15: DeprecationWarning: sklearn.externals.joblib is deprecated in 0.21 and will be removed in 0.23. Please import this functionality directly from joblib, which can be installed with: pip install joblib. If this warning is raised when loading pickled models, you may need to re-serialize those models with scikit-learn 0.21+.\n",
      "  warnings.warn(msg, category=DeprecationWarning)\n"
     ]
    }
   ],
   "source": [
    "import pickle\n",
    "from sklearn.externals import joblib\n",
    "l1=joblib.load('models/temperature_model.pkl')\n",
    "l2=joblib.load('models/pressure_model.pkl')\n",
    "l3=joblib.load('models/humidity_model.pkl')\n",
    "l4=joblib.load('models/visibility_model.pkl')\n",
    "l5=joblib.load('models/wind_direction_model.pkl')\n",
    "l6=joblib.load('models/windchill_model.pkl')\n",
    "l7=joblib.load('models/precipitation_model.pkl')\n",
    "l8=joblib.load('models/windspeed_model.pkl')\n",
    "l9=joblib.load('models/weathercondition_model.pkl')\n",
    "def pred(Start_Lat, Start_Lng,start_year, start_month, \n",
    "       start_day,start_hour, start_minute, end_year, end_month, end_day,\n",
    "       end_hour, end_minute, weather_year, weather_month,\n",
    "       weather_day, weather_hour, weather_minute):\n",
    "    \n",
    "    results = {}\n",
    "    x=[[Start_Lat, Start_Lng,start_year, start_month, start_day,start_hour, start_minute, end_year, end_month, end_day,\n",
    "       end_hour, end_minute, weather_year, weather_month,\n",
    "       weather_day, weather_hour, weather_minute]]\n",
    "    t=l1.predict(x)\n",
    "    x[0].append(t)\n",
    "    results['temperature'] = t[0]\n",
    "    \n",
    "    p=l2.predict(x)\n",
    "    results['pressure'] = p[0]\n",
    "    x[0].append(p)\n",
    "    \n",
    "    h=l3.predict(x)\n",
    "    results['humidity'] = h[0]\n",
    "    x[0].append(h)\n",
    "    \n",
    "    v=l4.predict(x)\n",
    "    results['visibility'] = v[0]\n",
    "    x[0].append(v)\n",
    "    \n",
    "    wd=l5.predict(x)\n",
    "    results['wind_direction'] = wd[0]\n",
    "    x[0].append(wd)\n",
    "    \n",
    "    wc=l6.predict(x)\n",
    "    results['wind_chill'] = wc[0]\n",
    "    x[0].append(wc)\n",
    "    \n",
    "    pr=l7.predict(x)\n",
    "    results['precipitation'] = pr[0]\n",
    "    x[0].append(pr)\n",
    "    \n",
    "    ws=l8.predict(x)\n",
    "    results['wind_speed'] = ws[0]\n",
    "    x[0].append(ws)\n",
    "    \n",
    "    wcon=l9.predict(x)\n",
    "    results['weather_condition'] = wcon[0]\n",
    "    \n",
    "    return results"
   ]
  },
  {
   "cell_type": "code",
   "execution_count": 2,
   "metadata": {},
   "outputs": [],
   "source": [
    "t=pred( 3.9865147e+01, -8.4058723e+01,  2.0160000e+03,  2.0000000e+00,\n",
    "        8.0000000e+00,  5.0000000e+00,  4.6000000e+01,  2.0160000e+03,\n",
    "        2.0000000e+00,  8.0000000e+00,  1.1000000e+01,  0.0000000e+00,\n",
    "        2.0160000e+03,  2.0000000e+00,  8.0000000e+00,  5.0000000e+00,\n",
    "        5.8000000e+01)"
   ]
  },
  {
   "cell_type": "code",
   "execution_count": 3,
   "metadata": {},
   "outputs": [
    {
     "name": "stdout",
     "output_type": "stream",
     "text": [
      "{'temperature': 35.630999999999936, 'pressure': 29.656719999999865, 'humidity': 95.826, 'visibility': 8.122, 'wind_direction': 6.44, 'wind_chill': 10.149600000000008, 'precipitation': 0.0005000000000000001, 'wind_speed': 3.6245999999999983, 'weather_condition': 3.968}\n"
     ]
    }
   ],
   "source": [
    "print(t)"
   ]
  },
  {
   "cell_type": "code",
   "execution_count": null,
   "metadata": {},
   "outputs": [],
   "source": []
  }
 ],
 "metadata": {
  "kernelspec": {
   "display_name": "Python 3",
   "language": "python",
   "name": "python3"
  },
  "language_info": {
   "codemirror_mode": {
    "name": "ipython",
    "version": 3
   },
   "file_extension": ".py",
   "mimetype": "text/x-python",
   "name": "python",
   "nbconvert_exporter": "python",
   "pygments_lexer": "ipython3",
   "version": "3.7.3"
  }
 },
 "nbformat": 4,
 "nbformat_minor": 2
}
