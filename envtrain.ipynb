{
 "cells": [
  {
   "cell_type": "code",
   "execution_count": 11,
   "metadata": {},
   "outputs": [],
   "source": [
    "import pandas as pd\n",
    "import numpy as np\n",
    "data = pd.read_excel(\"E:/MCA Project/100copy.xlsx\" )"
   ]
  },
  {
   "cell_type": "code",
   "execution_count": 13,
   "metadata": {},
   "outputs": [],
   "source": [
    "x_test=data[['Start_Lat', 'Start_Lng','start_year', 'start_month', 'start_day',\n",
    "       'start_hour', 'start_minute', 'end_year', 'end_month', 'end_day',\n",
    "       'end_hour', 'end_minute', 'weather_year', 'weather_month',\n",
    "       'weather_day', 'weather_hour', 'weather_minute']]\n"
   ]
  },
  {
   "cell_type": "code",
   "execution_count": 17,
   "metadata": {},
   "outputs": [
    {
     "data": {
      "text/plain": [
       "array([ 3.9865147e+01, -8.4058723e+01,  2.0160000e+03,  2.0000000e+00,\n",
       "        8.0000000e+00,  5.0000000e+00,  4.6000000e+01,  2.0160000e+03,\n",
       "        2.0000000e+00,  8.0000000e+00,  1.1000000e+01,  0.0000000e+00,\n",
       "        2.0160000e+03,  2.0000000e+00,  8.0000000e+00,  5.0000000e+00,\n",
       "        5.8000000e+01])"
      ]
     },
     "execution_count": 17,
     "metadata": {},
     "output_type": "execute_result"
    }
   ],
   "source": [
    "x_test.values[0]"
   ]
  },
  {
   "cell_type": "code",
   "execution_count": null,
   "metadata": {},
   "outputs": [],
   "source": []
  },
  {
   "cell_type": "code",
   "execution_count": 63,
   "metadata": {
    "scrolled": true
   },
   "outputs": [
    {
     "data": {
      "text/plain": [
       "array([35.6738])"
      ]
     },
     "execution_count": 63,
     "metadata": {},
     "output_type": "execute_result"
    }
   ],
   "source": [
    "\n",
    "import pickle\n",
    "from sklearn.externals import joblib \n",
    "lr=joblib.load('models/temperature_model.pkl')\n",
    "X=[[ 3.9865147e+01, -8.4058723e+01,  2.0160000e+03,  2.0000000e+00,\n",
    "        8.0000000e+00,  5.0000000e+00,  4.6000000e+01,  2.0160000e+03,\n",
    "        2.0000000e+00,  8.0000000e+00,  1.1000000e+01,  0.0000000e+00,\n",
    "        2.0160000e+03,  2.0000000e+00,  8.0000000e+00,  5.0000000e+00,\n",
    "        5.8000000e+01]]\n",
    "\n",
    "temp=lr.predict(X)\n",
    "temp"
   ]
  },
  {
   "cell_type": "code",
   "execution_count": 55,
   "metadata": {},
   "outputs": [
    {
     "data": {
      "text/plain": [
       "array([29.6575])"
      ]
     },
     "execution_count": 55,
     "metadata": {},
     "output_type": "execute_result"
    }
   ],
   "source": [
    "import pickle\n",
    "from sklearn.externals import joblib \n",
    "lr=joblib.load('models/pressure_model.pkl')\n",
    "X=[[ 3.9865147e+01, -8.4058723e+01,  2.0160000e+03,  2.0000000e+00,\n",
    "        8.0000000e+00,  5.0000000e+00,  4.6000000e+01,  2.0160000e+03,\n",
    "        2.0000000e+00,  8.0000000e+00,  1.1000000e+01,  0.0000000e+00,\n",
    "        2.0160000e+03,  2.0000000e+00,  8.0000000e+00,  5.0000000e+00,\n",
    "        5.8000000e+01,35.6442]]\n",
    "\n",
    "pressure=lr.predict(X)\n",
    "pressure"
   ]
  },
  {
   "cell_type": "code",
   "execution_count": 56,
   "metadata": {},
   "outputs": [
    {
     "data": {
      "text/plain": [
       "array([94.742])"
      ]
     },
     "execution_count": 56,
     "metadata": {},
     "output_type": "execute_result"
    }
   ],
   "source": [
    " import pickle\n",
    "from sklearn.externals import joblib \n",
    "lr=joblib.load('models/humidity_model.pkl')\n",
    "X=[[ 3.9865147e+01, -8.4058723e+01,  2.0160000e+03,  2.0000000e+00,\n",
    "        8.0000000e+00,  5.0000000e+00,  4.6000000e+01,  2.0160000e+03,\n",
    "        2.0000000e+00,  8.0000000e+00,  1.1000000e+01,  0.0000000e+00,\n",
    "        2.0160000e+03,  2.0000000e+00,  8.0000000e+00,  5.0000000e+00,\n",
    "        5.8000000e+01,35.6442,29.6575]]\n",
    "\n",
    "humidity=lr.predict(X)\n",
    "humidity"
   ]
  },
  {
   "cell_type": "code",
   "execution_count": 57,
   "metadata": {},
   "outputs": [
    {
     "data": {
      "text/plain": [
       "array([8.312])"
      ]
     },
     "execution_count": 57,
     "metadata": {},
     "output_type": "execute_result"
    }
   ],
   "source": [
    " import pickle\n",
    "from sklearn.externals import joblib \n",
    "lr=joblib.load('models/visibility_model.pkl')\n",
    "X=[[ 3.9865147e+01, -8.4058723e+01,  2.0160000e+03,  2.0000000e+00,\n",
    "        8.0000000e+00,  5.0000000e+00,  4.6000000e+01,  2.0160000e+03,\n",
    "        2.0000000e+00,  8.0000000e+00,  1.1000000e+01,  0.0000000e+00,\n",
    "        2.0160000e+03,  2.0000000e+00,  8.0000000e+00,  5.0000000e+00,\n",
    "        5.8000000e+01,35.6442,29.6575,94.742]]\n",
    "\n",
    "visibility=lr.predict(X)\n",
    "visibility"
   ]
  },
  {
   "cell_type": "code",
   "execution_count": 58,
   "metadata": {},
   "outputs": [
    {
     "data": {
      "text/plain": [
       "array([6.466])"
      ]
     },
     "execution_count": 58,
     "metadata": {},
     "output_type": "execute_result"
    }
   ],
   "source": [
    " import pickle\n",
    "from sklearn.externals import joblib \n",
    "lr=joblib.load('models/wind_direction_model.pkl')\n",
    "X=[[ 3.9865147e+01, -8.4058723e+01,  2.0160000e+03,  2.0000000e+00,\n",
    "        8.0000000e+00,  5.0000000e+00,  4.6000000e+01,  2.0160000e+03,\n",
    "        2.0000000e+00,  8.0000000e+00,  1.1000000e+01,  0.0000000e+00,\n",
    "        2.0160000e+03,  2.0000000e+00,  8.0000000e+00,  5.0000000e+00,\n",
    "        5.8000000e+01,35.6442,29.6575,94.742,8.312]]\n",
    "\n",
    "winddir=lr.predict(X)\n",
    "winddir"
   ]
  },
  {
   "cell_type": "code",
   "execution_count": 59,
   "metadata": {},
   "outputs": [
    {
     "data": {
      "text/plain": [
       "array([10.1676])"
      ]
     },
     "execution_count": 59,
     "metadata": {},
     "output_type": "execute_result"
    }
   ],
   "source": [
    " import pickle\n",
    "from sklearn.externals import joblib \n",
    "lr=joblib.load('models/windchill_model.pkl')\n",
    "X=[[ 3.9865147e+01, -8.4058723e+01,  2.0160000e+03,  2.0000000e+00,\n",
    "        8.0000000e+00,  5.0000000e+00,  4.6000000e+01,  2.0160000e+03,\n",
    "        2.0000000e+00,  8.0000000e+00,  1.1000000e+01,  0.0000000e+00,\n",
    "        2.0160000e+03,  2.0000000e+00,  8.0000000e+00,  5.0000000e+00,\n",
    "        5.8000000e+01,35.6442,29.6575,94.742,8.312,6.466]]\n",
    "\n",
    "windchill=lr.predict(X)\n",
    "windchill"
   ]
  },
  {
   "cell_type": "code",
   "execution_count": 60,
   "metadata": {},
   "outputs": [
    {
     "data": {
      "text/plain": [
       "array([0.00046])"
      ]
     },
     "execution_count": 60,
     "metadata": {},
     "output_type": "execute_result"
    }
   ],
   "source": [
    " import pickle\n",
    "from sklearn.externals import joblib \n",
    "lr=joblib.load('models/precipitation_model.pkl')\n",
    "X=[[ 3.9865147e+01, -8.4058723e+01,  2.0160000e+03,  2.0000000e+00,\n",
    "        8.0000000e+00,  5.0000000e+00,  4.6000000e+01,  2.0160000e+03,\n",
    "        2.0000000e+00,  8.0000000e+00,  1.1000000e+01,  0.0000000e+00,\n",
    "        2.0160000e+03,  2.0000000e+00,  8.0000000e+00,  5.0000000e+00,\n",
    "        5.8000000e+01,35.6442,29.6575,94.742,8.312,6.466,10.1676]]\n",
    "\n",
    "precipitation=lr.predict(X)\n",
    "precipitation"
   ]
  },
  {
   "cell_type": "code",
   "execution_count": 61,
   "metadata": {},
   "outputs": [
    {
     "data": {
      "text/plain": [
       "array([4.0652])"
      ]
     },
     "execution_count": 61,
     "metadata": {},
     "output_type": "execute_result"
    }
   ],
   "source": [
    " import pickle\n",
    "from sklearn.externals import joblib \n",
    "lr=joblib.load('models/windspeed_model.pkl')\n",
    "X=[[ 3.9865147e+01, -8.4058723e+01,  2.0160000e+03,  2.0000000e+00,\n",
    "        8.0000000e+00,  5.0000000e+00,  4.6000000e+01,  2.0160000e+03,\n",
    "        2.0000000e+00,  8.0000000e+00,  1.1000000e+01,  0.0000000e+00,\n",
    "        2.0160000e+03,  2.0000000e+00,  8.0000000e+00,  5.0000000e+00,\n",
    "        5.8000000e+01,35.6442,29.6575,94.742,8.312,6.466,10.1676,0.00046]]\n",
    "\n",
    "windspeed=lr.predict(X)\n",
    "windspeed"
   ]
  },
  {
   "cell_type": "code",
   "execution_count": 62,
   "metadata": {},
   "outputs": [
    {
     "data": {
      "text/plain": [
       "array([4.04])"
      ]
     },
     "execution_count": 62,
     "metadata": {},
     "output_type": "execute_result"
    }
   ],
   "source": [
    " import pickle\n",
    "from sklearn.externals import joblib \n",
    "lr=joblib.load('models/weathercondition_model.pkl')\n",
    "X=[[ 3.9865147e+01, -8.4058723e+01,  2.0160000e+03,  2.0000000e+00,\n",
    "        8.0000000e+00,  5.0000000e+00,  4.6000000e+01,  2.0160000e+03,\n",
    "        2.0000000e+00,  8.0000000e+00,  1.1000000e+01,  0.0000000e+00,\n",
    "        2.0160000e+03,  2.0000000e+00,  8.0000000e+00,  5.0000000e+00,\n",
    "        5.8000000e+01,35.6442,29.6575,94.742,8.312,6.466,10.1676,0.00046,4.0652]]\n",
    "\n",
    "weathercondition=lr.predict(X)\n",
    "weathercondition"
   ]
  },
  {
   "cell_type": "code",
   "execution_count": 68,
   "metadata": {},
   "outputs": [
    {
     "data": {
      "text/plain": [
       "Index(['Unnamed: 0', 'TMC', 'Severity', 'Start_Lat', 'Start_Lng',\n",
       "       'Distance(mi)', 'Number', 'Street', 'Side', 'City', 'County', 'State',\n",
       "       'Zipcode', 'Timezone', 'Airport_Code', 'Temperature(F)',\n",
       "       'Wind_Chill(F)', 'Humidity(%)', 'Pressure(in)', 'Visibility(mi)',\n",
       "       'Wind_Direction', 'Wind_Speed(mph)', 'Precipitation(in)',\n",
       "       'Weather_Condition', 'Amenity', 'Bump', 'Crossing', 'Give_Way',\n",
       "       'Junction', 'No_Exit', 'Railway', 'Roundabout', 'Station', 'Stop',\n",
       "       'Traffic_Calming', 'Traffic_Signal', 'Turning_Loop', 'Sunrise_Sunset',\n",
       "       'Civil_Twilight', 'Nautical_Twilight', 'Astronomical_Twilight\\n',\n",
       "       'start_year', 'start_month', 'start_day', 'start_hour', 'start_minute',\n",
       "       'end_year', 'end_month', 'end_day', 'end_hour', 'end_minute',\n",
       "       'weather_year', 'weather_month', 'weather_day', 'weather_hour',\n",
       "       'weather_minute'],\n",
       "      dtype='object')"
      ]
     },
     "execution_count": 68,
     "metadata": {},
     "output_type": "execute_result"
    }
   ],
   "source": [
    "data.columns"
   ]
  },
  {
   "cell_type": "code",
   "execution_count": null,
   "metadata": {},
   "outputs": [],
   "source": []
  }
 ],
 "metadata": {
  "kernelspec": {
   "display_name": "Python 3",
   "language": "python",
   "name": "python3"
  },
  "language_info": {
   "codemirror_mode": {
    "name": "ipython",
    "version": 3
   },
   "file_extension": ".py",
   "mimetype": "text/x-python",
   "name": "python",
   "nbconvert_exporter": "python",
   "pygments_lexer": "ipython3",
   "version": "3.7.3"
  }
 },
 "nbformat": 4,
 "nbformat_minor": 2
}
